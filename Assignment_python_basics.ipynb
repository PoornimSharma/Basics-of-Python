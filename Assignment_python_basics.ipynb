{
  "nbformat": 4,
  "nbformat_minor": 0,
  "metadata": {
    "colab": {
      "provenance": []
    },
    "kernelspec": {
      "name": "python3",
      "display_name": "Python 3"
    },
    "language_info": {
      "name": "python"
    }
  },
  "cells": [
    {
      "cell_type": "markdown",
      "source": [
        "1.  **What is Python, and why is it popular?**\n",
        "\n",
        "- python is a programming language which is used to perform desired tasks and functions.\n",
        "####Why python is popular\n",
        "\n",
        "     It has been a favourite choice amongst the new workforce; be it web development or data science as it gives an easier understanding. It is easier for the beginners to learn. It does not need a person with a technical background, Person with non technical background can also learn it easily.\n",
        "\n",
        "\n",
        "\n",
        " 2. **What is an interpreter in Python?**\n",
        "\n",
        "- An interpreter in python language is a program that directly executes python codes converting line by line instructions to machine readable instructions.  \n",
        "\n",
        " For example: when we write print(\"hello world\") in python, the interpreter automatically understands print as a function and display \"hello world\".\n",
        "\n",
        "\n",
        "\n",
        "3.  **What are pre-defined keywords in Python?**\n",
        "\n",
        "- Predefined keywords used in python language are those reserved words which are used to have some specific meanings and functions. These are very important for the working of a code in python.\n",
        "\n",
        " One can have the access to predefined keywords by writing help(\"keywords\") in python.\n",
        " These keywords cannot be used as identifiers because of their specific role predefined.\n",
        " For example: await, break, if, else, elif, while, not, and, etc...\n",
        "\n",
        "\n",
        "\n",
        "4.  **Can keywords be used as variable names?**\n",
        "\n",
        "- No, keywords cant be used as variables names.\n",
        "  Using keywords as variables can cause syntax errors.\n",
        "\n",
        "\n",
        "5. **What is mutability in Python?**\n",
        "- Mutability in python refers to the ability of a content to be changed after its creation. These are those values that can be modified in place after they were initialized.\n",
        "\n",
        " Examples of mutable items are: lists, dictionaries, sets, etc.\n",
        "\n",
        "\n",
        "6. **Why are lists mutable, but tuples are immutable?**\n",
        "- Lists and tuples looks similar but they are not. They may look similar but the difference lies in the **parentheses** and **immutability**. The items in list are mutable whereas items in a tuple are immutable, this is because the developers wanted to give some sense of security to the data. As if any data is stored in a tuple then there will be less chances of it to be altered in the future by mistake.\n",
        "\n",
        " If you store objects in a list, there are chances that some other method will accidentally alter it and break your method, but a tuple offers a guarantee that the object you have stored will remain fixed. So the content that a developer want to keep immutable are kept in tuple and the one which it wants to alter are kept in lists or dictionaries.\n",
        "\n",
        "\n",
        "7. **What is the difference between “==” and “is” operators in Python?**\n",
        "- both \"==\" and \"is\" operators in pyhton are used for comparison but they serve diffrent purposes as well.\n",
        "\n",
        " -  \"==\" operator- It checks for equality of values that evaluates wheter two objects are same or not.\n",
        "\n",
        " - \"is\" operator- It checks for identity, i.e it signifies that the two variables determine to the same variable in the memory or not. If they are same then \"True\" statement is depicted otherwise a \"False\" statement is depicted.\n",
        "\n",
        "\n",
        "\n",
        "\n",
        "8. **What are logical operators in Python?**\n",
        "\n",
        "- Operators in python are spercial symbols that perform operations on one or more operands. Logical operators is a type of operator among several operators of python.\n",
        "####Logical operators-\n",
        "  Python offers three fundamdental logical operators: \"and\", \"or\" and \"not\". They evaluate the overall truth value of expressions, typically resulting in a Boolean True or False.\n",
        "\n",
        "9. **What is type casting in Python?**\n",
        "- Type casting means changing of data manually using built in fucntions of python or in simple words the process of converting one data type to another. It is done when there is an need to change the representation of a value.  It is of two types --Implicit type casting and Explicit type casting.\n",
        "\n",
        "\n",
        "\n",
        "\n",
        "10.  **What is the difference between implicit and explicit type casting?**\n",
        "-  1. Implicit type casting- In this data is converted to another data type automatically.\n",
        "\n",
        " 2. Explicit type casting- In this data is converted manually commanding the python by using data functions like int(), float(), str(), etc.\n",
        "\n",
        "\n",
        "\n",
        "11. **What is the purpose of conditional statements in Python?**\n",
        "\n",
        "- Many a times a certain condition arises where more than one outcomes are possbile so for that case python enable us to use conditional statements for implementing any of the favourable outcome we want. This enables decision making within the code. Examples of conditional statements are- if, else, and elif.\n",
        "12.  **How does the elif statement work?**\n",
        "- Elif statement in python means 'else if'. It is used to check multiple conditions simultaneously. It is apython way of saying that the previous conditions were not true hence try another condition until the right one is met.\n",
        "\n",
        "13.  **What is the difference between for and while loops?**\n",
        "- A Loop in python is a block of code that commands a code to repeatedly execute itself. It is helpful in tasks related to automation.\n",
        "\n",
        " 1. For loop- It is used usually when the number of  iterations are previously known.\n",
        "\n",
        " 2. While loop- It is used when the iterations are not known beforehand.\n",
        "\n",
        "\n",
        "14.  **Describe a scenario where a while loop is more suitable than a for loop?**\n",
        "- a while loop is more suitable when the number of iterations are not known.\n",
        "\n",
        " One scenario where while loop will be more suitable than for loop is playing a game. As we do not know when the game is gonna end, it might end in 2 minutes by completion of a certain level or it might go for hours. So in that case a while loop is used and it continues until the game ends.\n",
        "\n",
        " or\n",
        "\n",
        " Suppose there is a file consisting a lot of rows, we dont know till how long we havw to perform a task so in that case we will use while loop and it will continue to execute code till the rows ends.\n",
        "\n",
        " So these were some of the scenarios where a while loop will be more beneficial than a for loop.\n"
      ],
      "metadata": {
        "id": "S_sv9bXNV6pa"
      }
    },
    {
      "cell_type": "code",
      "source": [],
      "metadata": {
        "id": "9EQFZF2mZXZu"
      },
      "execution_count": null,
      "outputs": []
    },
    {
      "cell_type": "markdown",
      "source": [
        "**Practical Questions**\n",
        "\n",
        " 1. Write a Python program to print \"Hello, World!\n",
        "\n",
        " 2. Write a Python program that displays your name and age\n",
        " 3. Write code to print all the pre-defined keywords in Python using the keyword library\n",
        " 4. Write a program that checks if a given word is a Python keyword.\n",
        " 5. create a list and tuple in Python, and demonstrate how attempting to change an element works differently for each.\n",
        " 6. Write a function to demonstrate the behavior of mutable and immutable arguments.\n",
        " 7. Write a program that performs basic arithmetic operations on two user-input numbers.\n",
        " 8. Write a program to demonstrate the use of logical operators.\n",
        " 9. Write a Python program to convert user input from string to integer, float, and boolean types.\n",
        " 10. Write code to demonstrate type casting with list elements.\n",
        " 11. Write a program that checks if a number is positive, negative, or zero.\n",
        " 12. Write a for loop to print numbers from 1 to 10.\n",
        " 13. Write a Python program to find the sum of all even numbers between 1 and 50.\n",
        " 14. Write a program to reverse a string using a while loop.\n",
        " 15. Write a Python program to calculate the factorial of a number provided by the user using a while loop"
      ],
      "metadata": {
        "id": "CUBeg9weJ3Ap"
      }
    },
    {
      "cell_type": "code",
      "source": [
        "# PRACTICAL QUES\n",
        "# QUES 1- Write a Python program to print \"Hello, World!\n",
        "\n",
        "print(\"Hello, World!\")"
      ],
      "metadata": {
        "colab": {
          "base_uri": "https://localhost:8080/"
        },
        "id": "3WLwle9lKAy3",
        "outputId": "5cfc7148-09b8-4772-bef2-f7e51f21e9fa"
      },
      "execution_count": null,
      "outputs": [
        {
          "output_type": "stream",
          "name": "stdout",
          "text": [
            "Hello, World!\n"
          ]
        }
      ]
    },
    {
      "cell_type": "code",
      "source": [
        "# QUES 2-Write a Python program that displays your name and age\n",
        "\n",
        "name=(\" Poornim Sharma\")\n",
        "age= 24\n",
        "\n",
        "print(name)\n",
        "print(age)"
      ],
      "metadata": {
        "colab": {
          "base_uri": "https://localhost:8080/"
        },
        "id": "Ydfyv5TkLnhr",
        "outputId": "04be174c-26fc-409b-80fb-5990c4af686e"
      },
      "execution_count": null,
      "outputs": [
        {
          "output_type": "stream",
          "name": "stdout",
          "text": [
            " Poornim Sharma\n",
            "24\n"
          ]
        }
      ]
    },
    {
      "cell_type": "code",
      "source": [
        "# QUES 3- Write code to print all the pre-defined keywords in Python using the keyword library\n",
        "\n",
        "help(\"keywords\")"
      ],
      "metadata": {
        "colab": {
          "base_uri": "https://localhost:8080/"
        },
        "id": "mTrtIdZXL3Rw",
        "outputId": "7466a043-3408-49bc-e373-a801d2c5632e"
      },
      "execution_count": null,
      "outputs": [
        {
          "output_type": "stream",
          "name": "stdout",
          "text": [
            "\n",
            "Here is a list of the Python keywords.  Enter any keyword to get more help.\n",
            "\n",
            "False               class               from                or\n",
            "None                continue            global              pass\n",
            "True                def                 if                  raise\n",
            "and                 del                 import              return\n",
            "as                  elif                in                  try\n",
            "assert              else                is                  while\n",
            "async               except              lambda              with\n",
            "await               finally             nonlocal            yield\n",
            "break               for                 not                 \n",
            "\n"
          ]
        }
      ]
    },
    {
      "cell_type": "code",
      "source": [
        "# QUES 4- Write a program that checks if a given word is a Python keyword.\n",
        "\n",
        "import keyword\n",
        "keyword.iskeyword(\"nonlocal\")\n",
        "\n",
        "\n"
      ],
      "metadata": {
        "colab": {
          "base_uri": "https://localhost:8080/"
        },
        "id": "GMR6sjtOL-0h",
        "outputId": "d618af6e-dcb7-40c7-f7ae-8eeafc91f383"
      },
      "execution_count": null,
      "outputs": [
        {
          "output_type": "execute_result",
          "data": {
            "text/plain": [
              "True"
            ]
          },
          "metadata": {},
          "execution_count": 8
        }
      ]
    },
    {
      "cell_type": "code",
      "source": [
        "# QUES 5- Create a list and tuple in Python, and demonstrate how attempting to change an element works differently for each.\n",
        "\n",
        "my_list = [1, 2, 3, 4, 5]\n",
        "my_tuple = (10, 20, 30, 40, 50)\n",
        "\n",
        "print(\"Original list:\", my_list)\n",
        "print(\"Original tuple:\", my_tuple)\n",
        "\n",
        "# Attempting to change an element in the list\n",
        "my_list[2] = 99\n",
        "print(\"List after changing element at index 2:\", my_list)\n",
        "\n",
        "# Attempting to change an element in the tuple\n",
        "try:\n",
        "  my_tuple[2] = 99\n",
        "except TypeError as e:\n",
        "  print(\"Error attempting to change element in tuple:\", e)\n",
        "\n",
        "print(\"Tuple remains unchanged:\", my_tuple)"
      ],
      "metadata": {
        "colab": {
          "base_uri": "https://localhost:8080/"
        },
        "id": "EsAVO65kN3IN",
        "outputId": "c819e6ba-84c1-4852-bcb2-70ba19b2fa00"
      },
      "execution_count": null,
      "outputs": [
        {
          "output_type": "stream",
          "name": "stdout",
          "text": [
            "Original list: [1, 2, 3, 4, 5]\n",
            "Original tuple: (10, 20, 30, 40, 50)\n",
            "List after changing element at index 2: [1, 2, 99, 4, 5]\n",
            "Error attempting to change element in tuple: 'tuple' object does not support item assignment\n",
            "Tuple remains unchanged: (10, 20, 30, 40, 50)\n"
          ]
        }
      ]
    },
    {
      "cell_type": "code",
      "source": [
        " # QUES 6- Write a function to demonstrate the behavior of mutable and immutable arguments.\n",
        "\n",
        "def demonstrate_mutability(immutable_arg, mutable_arg):\n",
        "    \"\"\"\n",
        "    Demonstrates the behavior of mutable and immutable arguments.\n",
        "\n",
        "    Args:\n",
        "        immutable_arg: An immutable object (e.g., int, string, tuple).\n",
        "        mutable_arg: A mutable object (e.g., list, dictionary, set).\n",
        "    \"\"\"\n",
        "\n",
        "    print(f\"--- Inside the function ---\")\n",
        "\n",
        "    # Modifying the immutable argument\n",
        "    # This creates a new object within the function's scope,\n",
        "    # the original immutable_arg outside the function remains unchanged.\n",
        "    immutable_arg += 1\n",
        "    print(f\"Modified immutable_arg inside function: {immutable_arg}\")\n",
        "\n",
        "    # Modifying the mutable argument\n",
        "    # This modifies the original object that mutable_arg references,\n",
        "    # impacting the object outside the function as well.\n",
        "    mutable_arg.append(4)\n",
        "    print(f\"Modified mutable_arg inside function: {mutable_arg}\")\n",
        "\n",
        "    print(f\"--- Exiting the function ---\")\n",
        "\n",
        "\n",
        "# Immutable object\n",
        "my_number = 10\n",
        "print(f\"Original my_number before function call: {my_number}\")\n",
        "\n",
        "# Mutable object\n",
        "my_list = [1, 2, 3]\n",
        "print(f\"Original my_list before function call: {my_list}\")\n",
        "\n",
        "# Call the function\n",
        "demonstrate_mutability(my_number, my_list)\n",
        "\n",
        "# Observe the changes outside the function\n",
        "print(f\"my_number after function call: {my_number}\")\n",
        "\n",
        "print(f\"my_list after function call: {my_list}\")"
      ],
      "metadata": {
        "id": "xS9fWaLdPo4l",
        "colab": {
          "base_uri": "https://localhost:8080/"
        },
        "outputId": "ac28c779-737d-41bd-c541-2af40c538b2e"
      },
      "execution_count": 1,
      "outputs": [
        {
          "output_type": "stream",
          "name": "stdout",
          "text": [
            "Original my_number before function call: 10\n",
            "Original my_list before function call: [1, 2, 3]\n",
            "--- Inside the function ---\n",
            "Modified immutable_arg inside function: 11\n",
            "Modified mutable_arg inside function: [1, 2, 3, 4]\n",
            "--- Exiting the function ---\n",
            "my_number after function call: 10\n",
            "my_list after function call: [1, 2, 3, 4]\n"
          ]
        }
      ]
    },
    {
      "cell_type": "code",
      "source": [
        "# QUES 7- Write a program that performs basic arithmetic operations on two user-input numbers.\n",
        "\n",
        "#ANS- Arithmetic operators are those which represent mathematical calculations like addition, substraction, multiplication and division. These sre denoted by symbols like(+,-,*,/)\n",
        "\n",
        "num1= float(input(\"Enter the first number:\"))\n",
        "num2= float(input(\"Enter the second number:\"))\n",
        "\n",
        "\n",
        "\n",
        "print(\"select operations\")\n",
        "print(\"1. Add\")\n",
        "print(\"2. Subtract\")\n",
        "print(\"3. Multiply\")\n",
        "print(\"4. Divide\")\n",
        "\n",
        "choice= input(\"Enter choice(1/2/3/4):\")\n",
        "\n",
        "if choice == '1':\n",
        "  result = num1+num2\n",
        "  print(f\"{num1} + {num2} = {result}\")\n",
        "elif choice == '2':\n",
        "  result = num1-num2\n",
        "  print(f\"{num1} - {num2} = {result}\")\n",
        "elif choice == '3':\n",
        "  result = num1*num2\n",
        "  print(f\"{num1} * {num2} = {result}\")\n",
        "elif choice == '4':\n",
        "  if num2 == 0:\n",
        "    print(\"Cannot divide by zero\")\n",
        "  else:\n",
        "    result = num1/num2\n",
        "    print(f\"{num1} / {num2} = {result}\")\n",
        "else:\n",
        "    print(\"Invalid input\")\n",
        "\n"
      ],
      "metadata": {
        "id": "gQlJ7eaAQclF",
        "colab": {
          "base_uri": "https://localhost:8080/"
        },
        "outputId": "70a9b17b-ee19-432a-893b-8b47d1b9e6be"
      },
      "execution_count": null,
      "outputs": [
        {
          "output_type": "stream",
          "name": "stdout",
          "text": [
            "Enter the first number:50\n",
            "Enter the second number:20\n",
            "select operations\n",
            "1. Add\n",
            "2. Subtract\n",
            "3. Multiply\n",
            "4. Divide\n",
            "Enter choice(1/2/3/4):3\n",
            "50.0 * 20.0 = 1000.0\n"
          ]
        }
      ]
    },
    {
      "cell_type": "code",
      "source": [
        "# QUES8- Write a program to demonstrate the use of logical operators.\n",
        "'''ANS- Logical operators are those operators which are used to determine a link or connection between two conditional statements in programming.\n",
        " They represent in terms of True and False(Boolean value)'''\n",
        "\n",
        "\n",
        "# Declare and initialize variables\n",
        "age = 14\n",
        "has_license = True\n",
        "no_license = False\n",
        "\n",
        "# Logical AND (and)\n",
        "# Checks if both conditions are true\n",
        "print(\"--- Logical AND (and) ---\")\n",
        "if age >= 18 and has_license:\n",
        "    print(\"Eligible to drive.\")\n",
        "else:\n",
        "    print(\"Not eligible to drive.\")\n",
        "\n",
        "# Logical OR (or)\n",
        "# Checks if at least one condition is true\n",
        "print(\"\\n--- Logical OR (or) ---\")\n",
        "if no_license or not has_license:\n",
        "    print(\"Cannot drive safely or legally.\")\n",
        "else:\n",
        "    print(\"Can drive safely and legally.\")\n",
        "\n",
        "# Logical NOT (not)\n",
        "# Reverses the boolean value of a condition\n",
        "print(\"\\n--- Logical NOT (not) ---\")\n",
        "if not no_license:\n",
        "    print(\"Has license, can focus on driving.\")\n",
        "else:\n",
        "    print(\"No license, should not drive.\")\n",
        "\n",
        "# Combining logical operators\n",
        "print(\"\\n--- Combined Logical Operators ---\")\n",
        "# Eligible to drive if over 18 AND has a license, AND is NOT no_license\n",
        "if (age >= 18 and has_license) and not no_license:\n",
        "    print(\"Ready to hit the road!\")\n",
        "else:\n",
        "    print(\"Conditions not met for driving.\")"
      ],
      "metadata": {
        "colab": {
          "base_uri": "https://localhost:8080/"
        },
        "id": "vZLvdoTTYRob",
        "outputId": "17f56ef6-08fc-437e-9317-88bfd113ab54"
      },
      "execution_count": null,
      "outputs": [
        {
          "output_type": "stream",
          "name": "stdout",
          "text": [
            "--- Logical AND (and) ---\n",
            "Not eligible to drive.\n",
            "\n",
            "--- Logical OR (or) ---\n",
            "Can drive safely and legally.\n",
            "\n",
            "--- Logical NOT (not) ---\n",
            "Has license, can focus on driving.\n",
            "\n",
            "--- Combined Logical Operators ---\n",
            "Conditions not met for driving.\n"
          ]
        }
      ]
    },
    {
      "cell_type": "code",
      "source": [
        "# QUES 9- Write a Python program to convert user input from string to integer, float, and boolean types.\n",
        "\n",
        "#ANS- CONVERTING STRING INTO INTEGER.\n",
        "\n",
        "string=\"99\"\n",
        "integer=int(string)\n",
        "print(integer)\n",
        "print(type(integer))\n",
        "\n",
        "float=float(string)\n",
        "print(float)\n",
        "print(type(float))\n",
        "\n",
        "boolean=bool(string)\n",
        "print(boolean)\n",
        "print(type(boolean))"
      ],
      "metadata": {
        "colab": {
          "base_uri": "https://localhost:8080/"
        },
        "id": "LyzLbIJ7cYDy",
        "outputId": "b9020c85-31a8-4efb-e7ef-522639ad3471"
      },
      "execution_count": null,
      "outputs": [
        {
          "output_type": "stream",
          "name": "stdout",
          "text": [
            "99\n",
            "<class 'int'>\n",
            "99.0\n",
            "<class 'float'>\n",
            "True\n",
            "<class 'bool'>\n"
          ]
        }
      ]
    },
    {
      "cell_type": "code",
      "source": [
        "#QUES 10- Write code to demonstrate type casting with list elements.\n",
        "\n",
        "#ANS\n",
        "'''Type casting in python means converting one data type to another. It is also known as type conversion '''\n",
        "\n",
        "my_list=[ '200', 'sharma',1, 2 , 5.5, True, False]\n",
        "\n",
        "#covert string '200' to integer\n",
        "\n",
        "my_list[0] = int(my_list[0])\n",
        "print(my_list)\n",
        "\n",
        "#convert float 5.5 to integer\n",
        "\n",
        "my_list[-3] = int(my_list[-3])\n",
        "print(my_list)\n",
        "\n",
        "\n",
        "#convert float 5.5 to string.\n",
        "my_list[-3] = str(my_list[-3])\n",
        "print(my_list)\n",
        "\n",
        "#convert boolean True to string.\n",
        "my_list[-1] = str(my_list[-1])\n",
        "print(my_list)\n",
        "\n"
      ],
      "metadata": {
        "colab": {
          "base_uri": "https://localhost:8080/"
        },
        "id": "PblsP9aFdNYF",
        "outputId": "2f11e2f2-d568-42c6-ffd1-421e28ac2acb"
      },
      "execution_count": null,
      "outputs": [
        {
          "output_type": "stream",
          "name": "stdout",
          "text": [
            "[200, 'sharma', 1, 2, 5.5, True, False]\n",
            "[200, 'sharma', 1, 2, 5, True, False]\n",
            "[200, 'sharma', 1, 2, '5', True, False]\n",
            "[200, 'sharma', 1, 2, '5', True, 'False']\n"
          ]
        }
      ]
    },
    {
      "cell_type": "code",
      "source": [
        "# QUES 11- Write a program that checks if a number is positive, negative, or zero.\n",
        "\n",
        "def check_num(num):\n",
        "\n",
        "  if num > 0:\n",
        "    return \"positive\"\n",
        "  elif num < 0:\n",
        "    return \"negative\"\n",
        "  else:\n",
        "    return \"zero\"\n",
        "\n",
        "number =int(input(\"enter a number:\"))\n",
        "\n",
        "result= check_num(number)\n",
        "print(f\"The number {num} is {result}\")"
      ],
      "metadata": {
        "colab": {
          "base_uri": "https://localhost:8080/"
        },
        "id": "i7RU5IA4jF8z",
        "outputId": "5876ac8e-6435-4604-9d5d-6332edefd078"
      },
      "execution_count": null,
      "outputs": [
        {
          "output_type": "stream",
          "name": "stdout",
          "text": [
            "enter a number:5\n",
            "The number 5 is positive\n"
          ]
        }
      ]
    },
    {
      "cell_type": "code",
      "source": [
        "# QUES 12- Write a for loop to print numbers from 1 to 10.\n",
        "\n",
        "for i in range(1,11):\n",
        "  print(i)"
      ],
      "metadata": {
        "id": "53bTu46PlF0w",
        "colab": {
          "base_uri": "https://localhost:8080/"
        },
        "outputId": "adc6fcc8-6b9b-489f-f6fa-eb66c2ab33c4"
      },
      "execution_count": null,
      "outputs": [
        {
          "output_type": "stream",
          "name": "stdout",
          "text": [
            "1\n",
            "2\n",
            "3\n",
            "4\n",
            "5\n",
            "6\n",
            "7\n",
            "8\n",
            "9\n",
            "10\n"
          ]
        }
      ]
    },
    {
      "cell_type": "code",
      "source": [
        "# QUES 13- Write a Python program to find the sum of all even numbers between 1 and 50.\n",
        "\n",
        "\n",
        "sum_of_even_numbers = sum(range(2, 51, 2))\n",
        "\n",
        "# Print the result\n",
        "print(f\"The sum of all even numbers between 1 and 50 is: {sum_of_evens}\")\n"
      ],
      "metadata": {
        "colab": {
          "base_uri": "https://localhost:8080/"
        },
        "id": "weO66uUGvSSz",
        "outputId": "6a2e139a-1e2b-4534-a0e1-8ac2b5d5d88d"
      },
      "execution_count": null,
      "outputs": [
        {
          "output_type": "stream",
          "name": "stdout",
          "text": [
            "The sum of all even numbers between 1 and 50 is: 650\n"
          ]
        }
      ]
    },
    {
      "cell_type": "code",
      "source": [
        "#QUES 14- Write a program to reverse a string using a while loop.\n",
        "\n",
        "def reverse_string(input_string):\n",
        "  reversed_string = \"\"\n",
        "  index = len(input_string) - 1\n",
        "\n",
        "  while index >= 0:\n",
        "    reversed_string += input_string[index]\n",
        "    index -= 1\n",
        "\n",
        "  return reversed_string\n",
        "\n",
        "original_str = \"POORNNIM\"\n",
        "reversed_str = reverse_string_while_loop(original_str)\n",
        "print(f\"Original string: {original_str}\")\n",
        "print(f\"Reversed string: {reversed_str}\")\n",
        "\n",
        "original_str_2 = \"PWSKILLS\"\n",
        "reversed_str_2 = reverse_string_while_loop(original_str_2)\n",
        "print(f\"Original string: {original_str_2}\")\n",
        "print(f\"Reversed string: {reversed_str_2}\")\n",
        "\n"
      ],
      "metadata": {
        "colab": {
          "base_uri": "https://localhost:8080/"
        },
        "id": "ivWkTTZFxv4z",
        "outputId": "8130a32f-0bfd-4a3e-8b48-6d7b792eb0e2"
      },
      "execution_count": null,
      "outputs": [
        {
          "output_type": "stream",
          "name": "stdout",
          "text": [
            "Original string: POORNMIM\n",
            "Reversed string: MIMNROOP\n",
            "Original string: PWSKILLS\n",
            "Reversed string: SLLIKSWP\n"
          ]
        }
      ]
    },
    {
      "cell_type": "code",
      "source": [
        "# QUES 15- Write a Python program to calculate the factorial of a number provided by the user using a while loop\n",
        "\n",
        "\n",
        "def calculate_factorial(number):\n",
        "\n",
        "    if number < 0:\n",
        "        return \"Factorial is not defined for negative numbers.\"\n",
        "    elif number == 0:\n",
        "        return 1  # Factorial of 0 is 1\n",
        "    else:\n",
        "        factorial = 1\n",
        "        current_number = 1\n",
        "        while current_number <= number:\n",
        "            factorial *= current_number\n",
        "            current_number += 1\n",
        "        return factorial\n",
        "\n",
        "# Get input from the user\n",
        "try:\n",
        "    num_input = int(input(\"Enter a non-negative integer to calculate its factorial: \"))\n",
        "    result = calculate_factorial(num_input)\n",
        "    print(f\"The factorial of {num_input} is: {result}\")\n",
        "except ValueError:\n",
        "    print(\"Invalid input. Please enter an integer.\")\n"
      ],
      "metadata": {
        "colab": {
          "base_uri": "https://localhost:8080/"
        },
        "id": "hdqsQD1Cyckd",
        "outputId": "914b5a3b-98c6-4a9e-f0be-8fd3fb8e5fc2"
      },
      "execution_count": null,
      "outputs": [
        {
          "output_type": "stream",
          "name": "stdout",
          "text": [
            "Enter a non-negative integer to calculate its factorial: 5\n",
            "The factorial of 5 is: 120\n"
          ]
        }
      ]
    },
    {
      "cell_type": "code",
      "source": [],
      "metadata": {
        "id": "dtwd-xQUyytJ"
      },
      "execution_count": null,
      "outputs": []
    },
    {
      "cell_type": "code",
      "source": [],
      "metadata": {
        "id": "RKMEIx5QyzXH"
      },
      "execution_count": null,
      "outputs": []
    }
  ]
}